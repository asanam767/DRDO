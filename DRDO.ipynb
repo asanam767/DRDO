{
  "nbformat": 4,
  "nbformat_minor": 0,
  "metadata": {
    "colab": {
      "provenance": [],
      "gpuType": "T4",
      "authorship_tag": "ABX9TyOrMDh0PPyrwtouW4B1W7vE",
      "include_colab_link": true
    },
    "kernelspec": {
      "name": "python3",
      "display_name": "Python 3"
    },
    "language_info": {
      "name": "python"
    },
    "accelerator": "GPU"
  },
  "cells": [
    {
      "cell_type": "markdown",
      "metadata": {
        "id": "view-in-github",
        "colab_type": "text"
      },
      "source": [
        "<a href=\"https://colab.research.google.com/github/asanam767/DRDO/blob/main/DRDO.ipynb\" target=\"_parent\"><img src=\"https://colab.research.google.com/assets/colab-badge.svg\" alt=\"Open In Colab\"/></a>"
      ]
    },
    {
      "cell_type": "code",
      "source": [
        "from google.colab import drive\n",
        "drive.mount('/content/drive')\n"
      ],
      "metadata": {
        "colab": {
          "base_uri": "https://localhost:8080/"
        },
        "id": "5wro_J5VREtp",
        "outputId": "1474f577-8c86-4f45-989a-b413f50d31f4"
      },
      "execution_count": 1,
      "outputs": [
        {
          "output_type": "stream",
          "name": "stdout",
          "text": [
            "Mounted at /content/drive\n"
          ]
        }
      ]
    },
    {
      "cell_type": "code",
      "source": [
        "!pip install pandas numpy matplotlib seaborn tensorflow scikit-learn requests\n"
      ],
      "metadata": {
        "colab": {
          "base_uri": "https://localhost:8080/"
        },
        "id": "COQAQgVQx1OK",
        "outputId": "88a21971-f6f7-460b-f4b5-404c4f78fa3b"
      },
      "execution_count": 2,
      "outputs": [
        {
          "output_type": "stream",
          "name": "stdout",
          "text": [
            "Requirement already satisfied: pandas in /usr/local/lib/python3.11/dist-packages (2.2.2)\n",
            "Requirement already satisfied: numpy in /usr/local/lib/python3.11/dist-packages (2.0.2)\n",
            "Requirement already satisfied: matplotlib in /usr/local/lib/python3.11/dist-packages (3.10.0)\n",
            "Requirement already satisfied: seaborn in /usr/local/lib/python3.11/dist-packages (0.13.2)\n",
            "Requirement already satisfied: tensorflow in /usr/local/lib/python3.11/dist-packages (2.18.0)\n",
            "Requirement already satisfied: scikit-learn in /usr/local/lib/python3.11/dist-packages (1.6.1)\n",
            "Requirement already satisfied: requests in /usr/local/lib/python3.11/dist-packages (2.32.3)\n",
            "Requirement already satisfied: python-dateutil>=2.8.2 in /usr/local/lib/python3.11/dist-packages (from pandas) (2.8.2)\n",
            "Requirement already satisfied: pytz>=2020.1 in /usr/local/lib/python3.11/dist-packages (from pandas) (2025.1)\n",
            "Requirement already satisfied: tzdata>=2022.7 in /usr/local/lib/python3.11/dist-packages (from pandas) (2025.1)\n",
            "Requirement already satisfied: contourpy>=1.0.1 in /usr/local/lib/python3.11/dist-packages (from matplotlib) (1.3.1)\n",
            "Requirement already satisfied: cycler>=0.10 in /usr/local/lib/python3.11/dist-packages (from matplotlib) (0.12.1)\n",
            "Requirement already satisfied: fonttools>=4.22.0 in /usr/local/lib/python3.11/dist-packages (from matplotlib) (4.56.0)\n",
            "Requirement already satisfied: kiwisolver>=1.3.1 in /usr/local/lib/python3.11/dist-packages (from matplotlib) (1.4.8)\n",
            "Requirement already satisfied: packaging>=20.0 in /usr/local/lib/python3.11/dist-packages (from matplotlib) (24.2)\n",
            "Requirement already satisfied: pillow>=8 in /usr/local/lib/python3.11/dist-packages (from matplotlib) (11.1.0)\n",
            "Requirement already satisfied: pyparsing>=2.3.1 in /usr/local/lib/python3.11/dist-packages (from matplotlib) (3.2.1)\n",
            "Requirement already satisfied: absl-py>=1.0.0 in /usr/local/lib/python3.11/dist-packages (from tensorflow) (1.4.0)\n",
            "Requirement already satisfied: astunparse>=1.6.0 in /usr/local/lib/python3.11/dist-packages (from tensorflow) (1.6.3)\n",
            "Requirement already satisfied: flatbuffers>=24.3.25 in /usr/local/lib/python3.11/dist-packages (from tensorflow) (25.2.10)\n",
            "Requirement already satisfied: gast!=0.5.0,!=0.5.1,!=0.5.2,>=0.2.1 in /usr/local/lib/python3.11/dist-packages (from tensorflow) (0.6.0)\n",
            "Requirement already satisfied: google-pasta>=0.1.1 in /usr/local/lib/python3.11/dist-packages (from tensorflow) (0.2.0)\n",
            "Requirement already satisfied: libclang>=13.0.0 in /usr/local/lib/python3.11/dist-packages (from tensorflow) (18.1.1)\n",
            "Requirement already satisfied: opt-einsum>=2.3.2 in /usr/local/lib/python3.11/dist-packages (from tensorflow) (3.4.0)\n",
            "Requirement already satisfied: protobuf!=4.21.0,!=4.21.1,!=4.21.2,!=4.21.3,!=4.21.4,!=4.21.5,<6.0.0dev,>=3.20.3 in /usr/local/lib/python3.11/dist-packages (from tensorflow) (5.29.3)\n",
            "Requirement already satisfied: setuptools in /usr/local/lib/python3.11/dist-packages (from tensorflow) (75.1.0)\n",
            "Requirement already satisfied: six>=1.12.0 in /usr/local/lib/python3.11/dist-packages (from tensorflow) (1.17.0)\n",
            "Requirement already satisfied: termcolor>=1.1.0 in /usr/local/lib/python3.11/dist-packages (from tensorflow) (2.5.0)\n",
            "Requirement already satisfied: typing-extensions>=3.6.6 in /usr/local/lib/python3.11/dist-packages (from tensorflow) (4.12.2)\n",
            "Requirement already satisfied: wrapt>=1.11.0 in /usr/local/lib/python3.11/dist-packages (from tensorflow) (1.17.2)\n",
            "Requirement already satisfied: grpcio<2.0,>=1.24.3 in /usr/local/lib/python3.11/dist-packages (from tensorflow) (1.71.0)\n",
            "Requirement already satisfied: tensorboard<2.19,>=2.18 in /usr/local/lib/python3.11/dist-packages (from tensorflow) (2.18.0)\n",
            "Requirement already satisfied: keras>=3.5.0 in /usr/local/lib/python3.11/dist-packages (from tensorflow) (3.8.0)\n",
            "Requirement already satisfied: h5py>=3.11.0 in /usr/local/lib/python3.11/dist-packages (from tensorflow) (3.13.0)\n",
            "Requirement already satisfied: ml-dtypes<0.5.0,>=0.4.0 in /usr/local/lib/python3.11/dist-packages (from tensorflow) (0.4.1)\n",
            "Requirement already satisfied: tensorflow-io-gcs-filesystem>=0.23.1 in /usr/local/lib/python3.11/dist-packages (from tensorflow) (0.37.1)\n",
            "Requirement already satisfied: scipy>=1.6.0 in /usr/local/lib/python3.11/dist-packages (from scikit-learn) (1.14.1)\n",
            "Requirement already satisfied: joblib>=1.2.0 in /usr/local/lib/python3.11/dist-packages (from scikit-learn) (1.4.2)\n",
            "Requirement already satisfied: threadpoolctl>=3.1.0 in /usr/local/lib/python3.11/dist-packages (from scikit-learn) (3.6.0)\n",
            "Requirement already satisfied: charset-normalizer<4,>=2 in /usr/local/lib/python3.11/dist-packages (from requests) (3.4.1)\n",
            "Requirement already satisfied: idna<4,>=2.5 in /usr/local/lib/python3.11/dist-packages (from requests) (3.10)\n",
            "Requirement already satisfied: urllib3<3,>=1.21.1 in /usr/local/lib/python3.11/dist-packages (from requests) (2.3.0)\n",
            "Requirement already satisfied: certifi>=2017.4.17 in /usr/local/lib/python3.11/dist-packages (from requests) (2025.1.31)\n",
            "Requirement already satisfied: wheel<1.0,>=0.23.0 in /usr/local/lib/python3.11/dist-packages (from astunparse>=1.6.0->tensorflow) (0.45.1)\n",
            "Requirement already satisfied: rich in /usr/local/lib/python3.11/dist-packages (from keras>=3.5.0->tensorflow) (13.9.4)\n",
            "Requirement already satisfied: namex in /usr/local/lib/python3.11/dist-packages (from keras>=3.5.0->tensorflow) (0.0.8)\n",
            "Requirement already satisfied: optree in /usr/local/lib/python3.11/dist-packages (from keras>=3.5.0->tensorflow) (0.14.1)\n",
            "Requirement already satisfied: markdown>=2.6.8 in /usr/local/lib/python3.11/dist-packages (from tensorboard<2.19,>=2.18->tensorflow) (3.7)\n",
            "Requirement already satisfied: tensorboard-data-server<0.8.0,>=0.7.0 in /usr/local/lib/python3.11/dist-packages (from tensorboard<2.19,>=2.18->tensorflow) (0.7.2)\n",
            "Requirement already satisfied: werkzeug>=1.0.1 in /usr/local/lib/python3.11/dist-packages (from tensorboard<2.19,>=2.18->tensorflow) (3.1.3)\n",
            "Requirement already satisfied: MarkupSafe>=2.1.1 in /usr/local/lib/python3.11/dist-packages (from werkzeug>=1.0.1->tensorboard<2.19,>=2.18->tensorflow) (3.0.2)\n",
            "Requirement already satisfied: markdown-it-py>=2.2.0 in /usr/local/lib/python3.11/dist-packages (from rich->keras>=3.5.0->tensorflow) (3.0.0)\n",
            "Requirement already satisfied: pygments<3.0.0,>=2.13.0 in /usr/local/lib/python3.11/dist-packages (from rich->keras>=3.5.0->tensorflow) (2.18.0)\n",
            "Requirement already satisfied: mdurl~=0.1 in /usr/local/lib/python3.11/dist-packages (from markdown-it-py>=2.2.0->rich->keras>=3.5.0->tensorflow) (0.1.2)\n"
          ]
        }
      ]
    },
    {
      "cell_type": "code",
      "source": [
        "import json\n",
        "import requests\n",
        "import pandas as pd\n",
        "\n",
        "# Load the JSON metadata file\n",
        "with open(\"7182799.json\", \"r\") as f:\n",
        "    data = json.load(f)\n",
        "\n",
        "# Extract the links to CSV files\n",
        "file_entries = data[\"files\"][\"entries\"]\n",
        "\n",
        "# Selecting files for participant U001\n",
        "files_to_download = {\n",
        "    \"train_intention\": file_entries[\"U001_train_intention.csv\"][\"links\"][\"content\"],\n",
        "    \"train_payload\": file_entries[\"U001_train_payload.csv\"][\"links\"][\"content\"],\n",
        "    \"val_intention\": file_entries[\"U001_val_intention.csv\"][\"links\"][\"content\"],\n",
        "    \"val_payload\": file_entries[\"U001_val_payload.csv\"][\"links\"][\"content\"],\n",
        "    \"test_intention\": file_entries[\"U001_test_intention.csv\"][\"links\"][\"content\"],\n",
        "    \"test_payload\": file_entries[\"U001_test_payload.csv\"][\"links\"][\"content\"],\n",
        "}\n",
        "\n",
        "# Download and save the files\n",
        "for name, url in files_to_download.items():\n",
        "    response = requests.get(url)\n",
        "    with open(f\"{name}.csv\", \"wb\") as f:\n",
        "        f.write(response.content)\n",
        "    print(f\"Downloaded {name}.csv\")\n"
      ],
      "metadata": {
        "id": "d7q8iBHCydr3",
        "colab": {
          "base_uri": "https://localhost:8080/"
        },
        "outputId": "e4b2d8b6-591f-4f66-f319-c791d1e3288f"
      },
      "execution_count": 5,
      "outputs": [
        {
          "output_type": "stream",
          "name": "stdout",
          "text": [
            "Downloaded train_intention.csv\n",
            "Downloaded train_payload.csv\n",
            "Downloaded val_intention.csv\n",
            "Downloaded val_payload.csv\n",
            "Downloaded test_intention.csv\n",
            "Downloaded test_payload.csv\n"
          ]
        }
      ]
    },
    {
      "cell_type": "code",
      "source": [
        "from google.colab import drive\n",
        "drive.mount('/content/drive')\n"
      ],
      "metadata": {
        "colab": {
          "base_uri": "https://localhost:8080/"
        },
        "id": "1oN77reR2bm-",
        "outputId": "c53f1f0c-58cf-420d-f5a5-019387db2f4e"
      },
      "execution_count": 6,
      "outputs": [
        {
          "output_type": "stream",
          "name": "stdout",
          "text": [
            "Drive already mounted at /content/drive; to attempt to forcibly remount, call drive.mount(\"/content/drive\", force_remount=True).\n"
          ]
        }
      ]
    },
    {
      "cell_type": "code",
      "source": [
        "!mv /content/train_intention.csv \"/content/drive/My Drive/DRDO/\"\n",
        "!mv /content/train_payload.csv \"/content/drive/My Drive/DRDO/\"\n",
        "!mv /content/test_intention.csv \"/content/drive/My Drive/DRDO/\"\n",
        "!mv /content/test_payload.csv \"/content/drive/My Drive/DRDO/\"\n",
        "!mv /content/val_intention.csv \"/content/drive/My Drive/DRDO/\"\n",
        "!mv /content/val_payload.csv \"/content/drive/My Drive/DRDO/\"\n"
      ],
      "metadata": {
        "id": "yclUvy1H2gSA"
      },
      "execution_count": 7,
      "outputs": []
    },
    {
      "cell_type": "code",
      "source": [
        "import pandas as pd\n",
        "\n",
        "# Load training, validation, and test datasets\n",
        "df_train_intention = pd.read_csv(\"/content/drive/My Drive/DRDO/train_intention.csv\")\n",
        "df_train_payload = pd.read_csv(\"/content/drive/My Drive/DRDO/train_payload.csv\")\n",
        "\n",
        "df_val_intention = pd.read_csv(\"/content/drive/My Drive/DRDO/val_intention.csv\")\n",
        "df_val_payload = pd.read_csv(\"/content/drive/My Drive/DRDO/val_payload.csv\")\n",
        "\n",
        "df_test_intention = pd.read_csv(\"/content/drive/My Drive/DRDO/test_intention.csv\")\n",
        "df_test_payload = pd.read_csv(\"/content/drive/My Drive/DRDO/test_payload.csv\")\n",
        "\n",
        "# Display first 5 rows of each dataset\n",
        "print(\"Train Intention Dataset:\")\n",
        "print(df_train_intention.head())\n",
        "\n",
        "print(\"\\nTrain Payload Dataset:\")\n",
        "print(df_train_payload.head())\n"
      ],
      "metadata": {
        "colab": {
          "base_uri": "https://localhost:8080/"
        },
        "id": "Xwvss8bG3yhG",
        "outputId": "c2b6fe73-657d-4e88-853a-508958f4c0ce"
      },
      "execution_count": 8,
      "outputs": [
        {
          "output_type": "stream",
          "name": "stdout",
          "text": [
            "Train Intention Dataset:\n",
            "   Axel_X_C9  Axel_Y_C9  Axel_Z_C9  Gyro_X_C9  Gyro_Y_C9  Gyro_Z_C9  \\\n",
            "0   9.074494  -0.481113  -3.455022   0.012343   0.011154   0.046459   \n",
            "1   9.234787  -0.546570  -3.346555   0.055380  -0.006489   0.026373   \n",
            "2   9.308741  -0.685120  -3.125236   0.122433  -0.021939   0.019428   \n",
            "3   9.189075  -0.693756  -2.841300   0.202340  -0.025395   0.003973   \n",
            "4   9.190679  -0.460600  -2.688468   0.268421  -0.013397   0.001976   \n",
            "\n",
            "   Axel_X_3B  Axel_Y_3B  Axel_Z_3B  Gyro_X_3B  ...  Gyro_X_B6  Gyro_Y_B6  \\\n",
            "0   9.294066   0.016188  -1.866136   0.280846  ...  -0.073917  -0.320395   \n",
            "1   9.358950  -0.003909  -1.534498   0.243645  ...  -0.065672  -0.322257   \n",
            "2   9.433356  -0.176038  -1.508867   0.232980  ...  -0.053523  -0.315645   \n",
            "3   9.444161  -0.416103  -1.774503   0.247104  ...  -0.060104  -0.311796   \n",
            "4   9.452289  -0.433332  -1.949570   0.219017  ...  -0.077943  -0.306367   \n",
            "\n",
            "   Gyro_Z_B6  Axel_X_BB  Axel_Y_BB  Axel_Z_BB  Gyro_X_BB  Gyro_Y_BB  \\\n",
            "0  -0.011203   9.100456  -2.485844   2.495687  -0.223229  -0.028756   \n",
            "1  -0.009219   9.084514  -2.389787   2.503692  -0.225826  -0.033528   \n",
            "2  -0.012640   9.135521  -2.260338   2.459218  -0.231789  -0.035868   \n",
            "3  -0.013642   9.176639  -2.204538   2.444970  -0.246036  -0.048283   \n",
            "4  -0.016528   9.236058  -2.245689   2.412600  -0.267094  -0.053789   \n",
            "\n",
            "   Gyro_Z_BB  target  \n",
            "0  -0.044222     0.0  \n",
            "1  -0.042486     0.0  \n",
            "2  -0.048495     0.0  \n",
            "3  -0.057094     0.0  \n",
            "4  -0.068982     0.0  \n",
            "\n",
            "[5 rows x 31 columns]\n",
            "\n",
            "Train Payload Dataset:\n",
            "   Axel_X_C9  Axel_Y_C9  Axel_Z_C9  Gyro_X_C9  Gyro_Y_C9  Gyro_Z_C9  \\\n",
            "0   9.129293   0.465187  -3.141545   0.054519  -0.140053  -0.014158   \n",
            "1   9.225572   0.347925  -3.064045   0.083317  -0.157963  -0.020945   \n",
            "2   9.358176   0.373358  -3.080521   0.106276  -0.168740  -0.015406   \n",
            "3   9.453115   0.420152  -2.949899   0.117193  -0.168317  -0.015230   \n",
            "4   9.529858   0.531635  -2.970924   0.135785  -0.167267  -0.013828   \n",
            "\n",
            "   Axel_X_3B  Axel_Y_3B  Axel_Z_3B  Gyro_X_3B  ...  Gyro_X_B6  Gyro_Y_B6  \\\n",
            "0   9.516466   0.574897  -2.225271   0.016361  ...   0.067890   0.103523   \n",
            "1   9.498638   0.544204  -2.176851   0.042472  ...   0.058985   0.106148   \n",
            "2   9.512874   0.471570  -2.063519   0.052663  ...   0.051594   0.108770   \n",
            "3   9.596771   0.387458  -2.063722   0.035231  ...   0.046712   0.103378   \n",
            "4   9.678160   0.338900  -2.021148   0.037844  ...   0.035963   0.083532   \n",
            "\n",
            "   Gyro_Z_B6  Axel_X_BB  Axel_Y_BB  Axel_Z_BB  Gyro_X_BB  Gyro_Y_BB  \\\n",
            "0  -0.002556   9.345181  -1.795651   1.738715   0.141217  -0.079087   \n",
            "1   0.003432   9.372660  -1.916120   1.741266   0.142330  -0.087859   \n",
            "2   0.002743   9.468213  -1.958619   1.758178   0.160535  -0.089565   \n",
            "3   0.011171   9.579795  -1.975650   1.821904   0.174194  -0.085926   \n",
            "4   0.015996   9.624906  -1.976436   1.876111   0.186343  -0.076838   \n",
            "\n",
            "   Gyro_Z_BB  target  \n",
            "0  -0.084620     0.0  \n",
            "1  -0.093120     0.0  \n",
            "2  -0.097410     0.0  \n",
            "3  -0.112107     0.0  \n",
            "4  -0.130771     0.0  \n",
            "\n",
            "[5 rows x 31 columns]\n"
          ]
        }
      ]
    },
    {
      "cell_type": "code",
      "source": [
        "# Select all sensor columns (excluding the target column)\n",
        "sensor_columns = df_train_intention.columns[:-1]  # Exclude 'target' column\n",
        "\n",
        "# Extract features and labels\n",
        "X_train_raw = df_train_intention[sensor_columns]\n",
        "y_train_raw = df_train_intention['target']\n",
        "\n",
        "X_val_raw = df_val_intention[sensor_columns]\n",
        "y_val_raw = df_val_intention['target']\n",
        "\n",
        "X_test_raw = df_test_intention[sensor_columns]\n",
        "y_test_raw = df_test_intention['target']\n",
        "\n",
        "print(f\"Features Shape: {X_train_raw.shape}\")\n",
        "print(f\"Labels Shape: {y_train_raw.shape}\")\n"
      ],
      "metadata": {
        "colab": {
          "base_uri": "https://localhost:8080/"
        },
        "id": "cMA4_SNg4QOA",
        "outputId": "13e24776-1b95-44bd-84c7-45befd1bd25b"
      },
      "execution_count": 9,
      "outputs": [
        {
          "output_type": "stream",
          "name": "stdout",
          "text": [
            "Features Shape: (109875, 30)\n",
            "Labels Shape: (109875,)\n"
          ]
        }
      ]
    },
    {
      "cell_type": "code",
      "source": [
        "from sklearn.preprocessing import LabelEncoder\n",
        "\n",
        "# Check if labels are categorical (text-based)\n",
        "if y_train_raw.dtype == 'O':  # 'O' means object (text data)\n",
        "    encoder = LabelEncoder()\n",
        "    y_train = encoder.fit_transform(y_train_raw)\n",
        "    y_val = encoder.transform(y_val_raw)\n",
        "    y_test = encoder.transform(y_test_raw)\n",
        "\n",
        "    print(\"Labels converted to numeric values.\")\n",
        "    print(f\"Classes: {encoder.classes_}\")\n",
        "else:\n",
        "    y_train, y_val, y_test = y_train_raw, y_val_raw, y_test_raw\n",
        "    print(\"Labels are already numeric.\")\n"
      ],
      "metadata": {
        "colab": {
          "base_uri": "https://localhost:8080/"
        },
        "id": "BnfiL95i4hA5",
        "outputId": "83b7ed39-49b3-466c-ef37-39901780170e"
      },
      "execution_count": 10,
      "outputs": [
        {
          "output_type": "stream",
          "name": "stdout",
          "text": [
            "Labels are already numeric.\n"
          ]
        }
      ]
    },
    {
      "cell_type": "code",
      "source": [
        "import numpy as np\n",
        "\n",
        "# Function to create sequences\n",
        "def create_sequences(data, labels, seq_length=50):\n",
        "    sequences = []\n",
        "    sequence_labels = []\n",
        "\n",
        "    for i in range(len(data) - seq_length):\n",
        "        sequences.append(data.iloc[i : i + seq_length].values)  # 50 consecutive rows\n",
        "        sequence_labels.append(labels.iloc[i + seq_length])  # Next row’s label\n",
        "\n",
        "    return np.array(sequences), np.array(sequence_labels)\n",
        "\n",
        "# Convert training data into sequences\n",
        "X_train, y_train = create_sequences(X_train_raw, pd.Series(y_train_raw))\n",
        "X_val, y_val = create_sequences(X_val_raw, pd.Series(y_val_raw))\n",
        "X_test, y_test = create_sequences(X_test_raw, pd.Series(y_test_raw))\n",
        "\n",
        "print(\"✅ Sequences created successfully!\")\n",
        "print(f\"X_train shape: {X_train.shape}\")  # Expected: (samples, 50, 30)\n",
        "print(f\"y_train shape: {y_train.shape}\")  # Expected: (samples,)\n"
      ],
      "metadata": {
        "colab": {
          "base_uri": "https://localhost:8080/"
        },
        "id": "2cJUl9kP6HtJ",
        "outputId": "22b735ec-8b6e-474e-a84d-a0305abd8133"
      },
      "execution_count": 11,
      "outputs": [
        {
          "output_type": "stream",
          "name": "stdout",
          "text": [
            "✅ Sequences created successfully!\n",
            "X_train shape: (109825, 50, 30)\n",
            "y_train shape: (109825,)\n"
          ]
        }
      ]
    },
    {
      "cell_type": "code",
      "source": [
        "import tensorflow as tf\n",
        "from tensorflow.keras.models import Sequential\n",
        "from tensorflow.keras.layers import LSTM, Dense, Dropout\n"
      ],
      "metadata": {
        "id": "k8unhOwG7Oyz"
      },
      "execution_count": 12,
      "outputs": []
    },
    {
      "cell_type": "code",
      "source": [
        "# Define the LSTM model\n",
        "model = Sequential([\n",
        "    LSTM(64, return_sequences=True, input_shape=(X_train.shape[1], X_train.shape[2])),\n",
        "    Dropout(0.2),  # Dropout to reduce overfitting\n",
        "    LSTM(32, return_sequences=False),\n",
        "    Dropout(0.2),\n",
        "    Dense(16, activation='relu'),\n",
        "    Dense(len(set(y_train)), activation='softmax')  # Output layer for classification\n",
        "])\n",
        "\n",
        "# Display model summary\n",
        "model.summary()\n"
      ],
      "metadata": {
        "colab": {
          "base_uri": "https://localhost:8080/",
          "height": 395
        },
        "id": "1ZIYGcrD7Wat",
        "outputId": "c035bc5c-6a09-45ce-f96b-b4cf9dd6e264"
      },
      "execution_count": 13,
      "outputs": [
        {
          "output_type": "stream",
          "name": "stderr",
          "text": [
            "/usr/local/lib/python3.11/dist-packages/keras/src/layers/rnn/rnn.py:200: UserWarning: Do not pass an `input_shape`/`input_dim` argument to a layer. When using Sequential models, prefer using an `Input(shape)` object as the first layer in the model instead.\n",
            "  super().__init__(**kwargs)\n"
          ]
        },
        {
          "output_type": "display_data",
          "data": {
            "text/plain": [
              "\u001b[1mModel: \"sequential\"\u001b[0m\n"
            ],
            "text/html": [
              "<pre style=\"white-space:pre;overflow-x:auto;line-height:normal;font-family:Menlo,'DejaVu Sans Mono',consolas,'Courier New',monospace\"><span style=\"font-weight: bold\">Model: \"sequential\"</span>\n",
              "</pre>\n"
            ]
          },
          "metadata": {}
        },
        {
          "output_type": "display_data",
          "data": {
            "text/plain": [
              "┏━━━━━━━━━━━━━━━━━━━━━━━━━━━━━━━━━━━━━━┳━━━━━━━━━━━━━━━━━━━━━━━━━━━━━┳━━━━━━━━━━━━━━━━━┓\n",
              "┃\u001b[1m \u001b[0m\u001b[1mLayer (type)                        \u001b[0m\u001b[1m \u001b[0m┃\u001b[1m \u001b[0m\u001b[1mOutput Shape               \u001b[0m\u001b[1m \u001b[0m┃\u001b[1m \u001b[0m\u001b[1m        Param #\u001b[0m\u001b[1m \u001b[0m┃\n",
              "┡━━━━━━━━━━━━━━━━━━━━━━━━━━━━━━━━━━━━━━╇━━━━━━━━━━━━━━━━━━━━━━━━━━━━━╇━━━━━━━━━━━━━━━━━┩\n",
              "│ lstm (\u001b[38;5;33mLSTM\u001b[0m)                          │ (\u001b[38;5;45mNone\u001b[0m, \u001b[38;5;34m50\u001b[0m, \u001b[38;5;34m64\u001b[0m)              │          \u001b[38;5;34m24,320\u001b[0m │\n",
              "├──────────────────────────────────────┼─────────────────────────────┼─────────────────┤\n",
              "│ dropout (\u001b[38;5;33mDropout\u001b[0m)                    │ (\u001b[38;5;45mNone\u001b[0m, \u001b[38;5;34m50\u001b[0m, \u001b[38;5;34m64\u001b[0m)              │               \u001b[38;5;34m0\u001b[0m │\n",
              "├──────────────────────────────────────┼─────────────────────────────┼─────────────────┤\n",
              "│ lstm_1 (\u001b[38;5;33mLSTM\u001b[0m)                        │ (\u001b[38;5;45mNone\u001b[0m, \u001b[38;5;34m32\u001b[0m)                  │          \u001b[38;5;34m12,416\u001b[0m │\n",
              "├──────────────────────────────────────┼─────────────────────────────┼─────────────────┤\n",
              "│ dropout_1 (\u001b[38;5;33mDropout\u001b[0m)                  │ (\u001b[38;5;45mNone\u001b[0m, \u001b[38;5;34m32\u001b[0m)                  │               \u001b[38;5;34m0\u001b[0m │\n",
              "├──────────────────────────────────────┼─────────────────────────────┼─────────────────┤\n",
              "│ dense (\u001b[38;5;33mDense\u001b[0m)                        │ (\u001b[38;5;45mNone\u001b[0m, \u001b[38;5;34m16\u001b[0m)                  │             \u001b[38;5;34m528\u001b[0m │\n",
              "├──────────────────────────────────────┼─────────────────────────────┼─────────────────┤\n",
              "│ dense_1 (\u001b[38;5;33mDense\u001b[0m)                      │ (\u001b[38;5;45mNone\u001b[0m, \u001b[38;5;34m4\u001b[0m)                   │              \u001b[38;5;34m68\u001b[0m │\n",
              "└──────────────────────────────────────┴─────────────────────────────┴─────────────────┘\n"
            ],
            "text/html": [
              "<pre style=\"white-space:pre;overflow-x:auto;line-height:normal;font-family:Menlo,'DejaVu Sans Mono',consolas,'Courier New',monospace\">┏━━━━━━━━━━━━━━━━━━━━━━━━━━━━━━━━━━━━━━┳━━━━━━━━━━━━━━━━━━━━━━━━━━━━━┳━━━━━━━━━━━━━━━━━┓\n",
              "┃<span style=\"font-weight: bold\"> Layer (type)                         </span>┃<span style=\"font-weight: bold\"> Output Shape                </span>┃<span style=\"font-weight: bold\">         Param # </span>┃\n",
              "┡━━━━━━━━━━━━━━━━━━━━━━━━━━━━━━━━━━━━━━╇━━━━━━━━━━━━━━━━━━━━━━━━━━━━━╇━━━━━━━━━━━━━━━━━┩\n",
              "│ lstm (<span style=\"color: #0087ff; text-decoration-color: #0087ff\">LSTM</span>)                          │ (<span style=\"color: #00d7ff; text-decoration-color: #00d7ff\">None</span>, <span style=\"color: #00af00; text-decoration-color: #00af00\">50</span>, <span style=\"color: #00af00; text-decoration-color: #00af00\">64</span>)              │          <span style=\"color: #00af00; text-decoration-color: #00af00\">24,320</span> │\n",
              "├──────────────────────────────────────┼─────────────────────────────┼─────────────────┤\n",
              "│ dropout (<span style=\"color: #0087ff; text-decoration-color: #0087ff\">Dropout</span>)                    │ (<span style=\"color: #00d7ff; text-decoration-color: #00d7ff\">None</span>, <span style=\"color: #00af00; text-decoration-color: #00af00\">50</span>, <span style=\"color: #00af00; text-decoration-color: #00af00\">64</span>)              │               <span style=\"color: #00af00; text-decoration-color: #00af00\">0</span> │\n",
              "├──────────────────────────────────────┼─────────────────────────────┼─────────────────┤\n",
              "│ lstm_1 (<span style=\"color: #0087ff; text-decoration-color: #0087ff\">LSTM</span>)                        │ (<span style=\"color: #00d7ff; text-decoration-color: #00d7ff\">None</span>, <span style=\"color: #00af00; text-decoration-color: #00af00\">32</span>)                  │          <span style=\"color: #00af00; text-decoration-color: #00af00\">12,416</span> │\n",
              "├──────────────────────────────────────┼─────────────────────────────┼─────────────────┤\n",
              "│ dropout_1 (<span style=\"color: #0087ff; text-decoration-color: #0087ff\">Dropout</span>)                  │ (<span style=\"color: #00d7ff; text-decoration-color: #00d7ff\">None</span>, <span style=\"color: #00af00; text-decoration-color: #00af00\">32</span>)                  │               <span style=\"color: #00af00; text-decoration-color: #00af00\">0</span> │\n",
              "├──────────────────────────────────────┼─────────────────────────────┼─────────────────┤\n",
              "│ dense (<span style=\"color: #0087ff; text-decoration-color: #0087ff\">Dense</span>)                        │ (<span style=\"color: #00d7ff; text-decoration-color: #00d7ff\">None</span>, <span style=\"color: #00af00; text-decoration-color: #00af00\">16</span>)                  │             <span style=\"color: #00af00; text-decoration-color: #00af00\">528</span> │\n",
              "├──────────────────────────────────────┼─────────────────────────────┼─────────────────┤\n",
              "│ dense_1 (<span style=\"color: #0087ff; text-decoration-color: #0087ff\">Dense</span>)                      │ (<span style=\"color: #00d7ff; text-decoration-color: #00d7ff\">None</span>, <span style=\"color: #00af00; text-decoration-color: #00af00\">4</span>)                   │              <span style=\"color: #00af00; text-decoration-color: #00af00\">68</span> │\n",
              "└──────────────────────────────────────┴─────────────────────────────┴─────────────────┘\n",
              "</pre>\n"
            ]
          },
          "metadata": {}
        },
        {
          "output_type": "display_data",
          "data": {
            "text/plain": [
              "\u001b[1m Total params: \u001b[0m\u001b[38;5;34m37,332\u001b[0m (145.83 KB)\n"
            ],
            "text/html": [
              "<pre style=\"white-space:pre;overflow-x:auto;line-height:normal;font-family:Menlo,'DejaVu Sans Mono',consolas,'Courier New',monospace\"><span style=\"font-weight: bold\"> Total params: </span><span style=\"color: #00af00; text-decoration-color: #00af00\">37,332</span> (145.83 KB)\n",
              "</pre>\n"
            ]
          },
          "metadata": {}
        },
        {
          "output_type": "display_data",
          "data": {
            "text/plain": [
              "\u001b[1m Trainable params: \u001b[0m\u001b[38;5;34m37,332\u001b[0m (145.83 KB)\n"
            ],
            "text/html": [
              "<pre style=\"white-space:pre;overflow-x:auto;line-height:normal;font-family:Menlo,'DejaVu Sans Mono',consolas,'Courier New',monospace\"><span style=\"font-weight: bold\"> Trainable params: </span><span style=\"color: #00af00; text-decoration-color: #00af00\">37,332</span> (145.83 KB)\n",
              "</pre>\n"
            ]
          },
          "metadata": {}
        },
        {
          "output_type": "display_data",
          "data": {
            "text/plain": [
              "\u001b[1m Non-trainable params: \u001b[0m\u001b[38;5;34m0\u001b[0m (0.00 B)\n"
            ],
            "text/html": [
              "<pre style=\"white-space:pre;overflow-x:auto;line-height:normal;font-family:Menlo,'DejaVu Sans Mono',consolas,'Courier New',monospace\"><span style=\"font-weight: bold\"> Non-trainable params: </span><span style=\"color: #00af00; text-decoration-color: #00af00\">0</span> (0.00 B)\n",
              "</pre>\n"
            ]
          },
          "metadata": {}
        }
      ]
    },
    {
      "cell_type": "code",
      "source": [
        "# Compile the model\n",
        "model.compile(\n",
        "    loss='sparse_categorical_crossentropy',  # Multi-class classification loss\n",
        "    optimizer='adam',  # Adaptive learning optimizer\n",
        "    metrics=['accuracy']  # Track accuracy during training\n",
        ")\n",
        "\n",
        "print(\"✅ Model compiled successfully!\")\n"
      ],
      "metadata": {
        "colab": {
          "base_uri": "https://localhost:8080/"
        },
        "id": "sb3rv16R7lHs",
        "outputId": "4e3af81e-44fe-4529-bbdb-9c3209183720"
      },
      "execution_count": 14,
      "outputs": [
        {
          "output_type": "stream",
          "name": "stdout",
          "text": [
            "✅ Model compiled successfully!\n"
          ]
        }
      ]
    },
    {
      "cell_type": "code",
      "source": [
        "history = model.fit(\n",
        "    X_train, y_train,\n",
        "    epochs=5,   # Start with 5 epochs\n",
        "    batch_size=32,  # Efficient batch size for GPU\n",
        "    validation_data=(X_val, y_val)\n",
        ")\n"
      ],
      "metadata": {
        "colab": {
          "base_uri": "https://localhost:8080/"
        },
        "id": "T6ZnWkqe7rdx",
        "outputId": "cdb2847d-beb3-486c-9f6f-1724ac7cca78"
      },
      "execution_count": null,
      "outputs": [
        {
          "output_type": "stream",
          "name": "stdout",
          "text": [
            "Epoch 1/5\n",
            "\u001b[1m2128/3433\u001b[0m \u001b[32m━━━━━━━━━━━━\u001b[0m\u001b[37m━━━━━━━━\u001b[0m \u001b[1m1:01\u001b[0m 47ms/step - accuracy: 0.9025 - loss: 0.2492"
          ]
        }
      ]
    },
    {
      "cell_type": "code",
      "source": [
        "model.save(\"/content/drive/My Drive/DRDO/lstm_model.keras\")\n",
        "print(\"✅ Model saved in the new Keras format!\")\n"
      ],
      "metadata": {
        "colab": {
          "base_uri": "https://localhost:8080/",
          "height": 159
        },
        "id": "BEsyBwr9_gVU",
        "outputId": "f058eb39-f359-4e12-8582-0b36d6088d10"
      },
      "execution_count": 4,
      "outputs": [
        {
          "output_type": "error",
          "ename": "NameError",
          "evalue": "name 'model' is not defined",
          "traceback": [
            "\u001b[0;31m---------------------------------------------------------------------------\u001b[0m",
            "\u001b[0;31mNameError\u001b[0m                                 Traceback (most recent call last)",
            "\u001b[0;32m<ipython-input-4-5db8d1c11344>\u001b[0m in \u001b[0;36m<cell line: 0>\u001b[0;34m()\u001b[0m\n\u001b[0;32m----> 1\u001b[0;31m \u001b[0mmodel\u001b[0m\u001b[0;34m.\u001b[0m\u001b[0msave\u001b[0m\u001b[0;34m(\u001b[0m\u001b[0;34m\"/content/drive/My Drive/DRDO/lstm_model.keras\"\u001b[0m\u001b[0;34m)\u001b[0m\u001b[0;34m\u001b[0m\u001b[0;34m\u001b[0m\u001b[0m\n\u001b[0m\u001b[1;32m      2\u001b[0m \u001b[0mprint\u001b[0m\u001b[0;34m(\u001b[0m\u001b[0;34m\"✅ Model saved in the new Keras format!\"\u001b[0m\u001b[0;34m)\u001b[0m\u001b[0;34m\u001b[0m\u001b[0;34m\u001b[0m\u001b[0m\n",
            "\u001b[0;31mNameError\u001b[0m: name 'model' is not defined"
          ]
        }
      ]
    },
    {
      "cell_type": "markdown",
      "source": [
        "from tensorflow.keras.models import load_model\n",
        "\n",
        "# Load the saved model\n",
        "model = load_model(\"/content/drive/My Drive/DRDO/lstm_model.h5\")\n",
        "\n",
        "print(\"✅ Model loaded successfully!\")\n"
      ],
      "metadata": {
        "id": "-naICUMH_yrk"
      }
    },
    {
      "cell_type": "code",
      "source": [
        "# Evaluate model on test dataset\n",
        "loss, accuracy = model.evaluate(X_test, y_test)\n",
        "\n",
        "print(f\"✅ Test Accuracy: {accuracy * 100:.2f}%\")\n",
        "print(f\"🔹 Test Loss: {loss:.4f}\")\n"
      ],
      "metadata": {
        "id": "ifu8Nwkz_oYN"
      },
      "execution_count": null,
      "outputs": []
    }
  ]
}